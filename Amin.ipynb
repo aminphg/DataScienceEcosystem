{
 "cells": [
  {
   "cell_type": "markdown",
   "id": "d4dce917-07b3-49b2-9a9b-77674cf29dc0",
   "metadata": {},
   "source": [
    "Data Science Tools and Ecosystems "
   ]
  },
  {
   "cell_type": "markdown",
   "id": "9003235a-3bda-4904-99e9-e1ff039417a8",
   "metadata": {},
   "source": [
    "In this notebook, data sicence tools and Ecosystem are summarized."
   ]
  },
  {
   "cell_type": "markdown",
   "id": "85778698-0983-4f07-99ed-7b5c73637163",
   "metadata": {},
   "source": [
    "Some of the popular languages that data scientists use are:\n",
    "1. Python\n",
    "2. R\n",
    "3. Julia"
   ]
  },
  {
   "cell_type": "markdown",
   "id": "b808eb17-0d04-4359-b7df-08f346ccc554",
   "metadata": {},
   "source": [
    "**Objectives**:\n",
    "- some of the popular languages that data scientists use\n",
    "- Identify commonly used libraries in data science\n",
    "- Introduction development environment open source tools for data science"
   ]
  },
  {
   "cell_type": "markdown",
   "id": "2e0f23ed-2933-4a15-8f82-9bde92fa904d",
   "metadata": {},
   "source": [
    "Some of the commonly used libraries used by data scientists include:\n",
    "1. Numpy\n",
    "2. Pandas\n",
    "3. Matplotlib"
   ]
  },
  {
   "cell_type": "markdown",
   "id": "f719bb54-784d-4a58-96ed-cccbd6b263f5",
   "metadata": {},
   "source": [
    "|Data Science Tools|\n",
    "|..................|\n",
    "|Jupiter Notebook  |\n",
    "|RStudio           |\n",
    "|VS Code           |\n"
   ]
  },
  {
   "cell_type": "markdown",
   "id": "d5661802-ce16-49ad-a4c1-b067681d1cf8",
   "metadata": {},
   "source": [
    "Blow are a few examples of evaluating of arithmetic expressions in Python "
   ]
  },
  {
   "cell_type": "code",
   "execution_count": 2,
   "id": "c76c492e-70ac-4ac1-83cd-9e201aeb5c31",
   "metadata": {},
   "outputs": [
    {
     "data": {
      "text/plain": [
       "17"
      ]
     },
     "execution_count": 2,
     "metadata": {},
     "output_type": "execute_result"
    }
   ],
   "source": [
    "result = (3 * 4) + 5\n",
    "result"
   ]
  },
  {
   "cell_type": "code",
   "execution_count": 3,
   "id": "22720cd8-6953-48d3-a0dd-1c06490bf887",
   "metadata": {},
   "outputs": [
    {
     "data": {
      "text/plain": [
       "3.3333333333333335"
      ]
     },
     "execution_count": 3,
     "metadata": {},
     "output_type": "execute_result"
    }
   ],
   "source": [
    "#This will convert 200 minutes to hours by dividing by 60\n",
    "minutes = 200\n",
    "hours = minutes / 60\n",
    "hours"
   ]
  },
  {
   "cell_type": "markdown",
   "id": "cee311c2-d6af-4703-8a93-6d497c8dc333",
   "metadata": {},
   "source": [
    "**Author**:\n",
    "Mohammadamin Pourhosseingholi "
   ]
  },
  {
   "cell_type": "code",
   "execution_count": null,
   "id": "2d9fd057-9a49-434b-892c-2d9813e37f3f",
   "metadata": {},
   "outputs": [],
   "source": []
  }
 ],
 "metadata": {
  "kernelspec": {
   "display_name": "Python 3 (ipykernel)",
   "language": "python",
   "name": "python3"
  },
  "language_info": {
   "codemirror_mode": {
    "name": "ipython",
    "version": 3
   },
   "file_extension": ".py",
   "mimetype": "text/x-python",
   "name": "python",
   "nbconvert_exporter": "python",
   "pygments_lexer": "ipython3",
   "version": "3.11.7"
  }
 },
 "nbformat": 4,
 "nbformat_minor": 5
}
